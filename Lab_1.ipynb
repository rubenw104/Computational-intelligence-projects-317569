{
 "cells": [
  {
   "cell_type": "code",
   "execution_count": null,
   "metadata": {},
   "outputs": [],
   "source": [
    "from random import random\n",
    "from functools import reduce\n",
    "from collections import namedtuple\n",
    "from queue import PriorityQueue, SimpleQueue, LifoQueue\n",
    "\n",
    "import numpy as np"
   ]
  },
  {
   "cell_type": "code",
   "execution_count": null,
   "metadata": {},
   "outputs": [],
   "source": [
    "PROBLEM_SIZE = 5\n",
    "NUM_SETS = 40\n",
    "# SETS is a tuple that contains NUM_SETS arrays. Every array contains PROBLEM_SIZE boolean elements\n",
    "# random() returns a random value between 0 e 1. The expression random() <.3 is true with a probability of 30%\n",
    "SETS = tuple(\n",
    "    np.array([random() < 0.30 for _ in range(PROBLEM_SIZE)]) for _ in range(NUM_SETS)\n",
    ")\n",
    "# State is a nominated tuples class with two fields : 'taken' and 'not_taken', that are two sets of indexes \n",
    "State = namedtuple(\"State\", [\"taken\", \"not_taken\"])\n",
    "\n",
    "def goal_check(state):\n",
    "    return np.all(\n",
    "        reduce(\n",
    "            np.logical_or,\n",
    "            [SETS[i] for i in state.taken],\n",
    "            np.array([False for _ in range(PROBLEM_SIZE)]),\n",
    "        )\n",
    "    ) \n",
    "\n",
    "#it checks if goal is reacheable\n",
    "assert goal_check(State(set(range(NUM_SETS)), set())), \"Probelm not solvable\"\n"
   ]
  },
  {
   "cell_type": "code",
   "execution_count": null,
   "metadata": {},
   "outputs": [],
   "source": [
    "#Heuristic tried during lecture. It is not admissible for A* algorithm beacuse it overestimates the distance from the goal\n",
    "def distance(state):\n",
    "    return PROBLEM_SIZE  - sum(\n",
    "        reduce(\n",
    "            np.logical_or,\n",
    "            [SETS[i] for i in state.taken],\n",
    "            np.array([False for _ in range(PROBLEM_SIZE)]),\n",
    "        ))  "
   ]
  },
  {
   "cell_type": "markdown",
   "metadata": {},
   "source": [
    "The goal is to estimate the smallest number of pieces, among those not taken, needed to complete a line.\n",
    "\n",
    "Step 1: Calculate logical union of all pieces in taken. It will be called u_taken.\n",
    "\n",
    "Step 2: For each i in not_taken:\n",
    "            Union u_taken with not_taken[i]\n",
    "            Count the number of true values\n",
    "            Add it to an array of values\n",
    "\n",
    "Step 3: Find the maximum value in the array => m\n",
    "\n",
    "Step 4: Is PROBLEM_SIZE - m equal to 0? If yes, return 1. Otherwise, return 2.\n",
    "\n",
    "Note: If PROBLEM_SIZE - m equals 0, it means one step is missing from the optimal solution. Otherwise, we don't know how many steps are needed, but at least 2. By returning 2, I make an optimistic estimation of the remaining steps. This means that this Heuristic is admissible. Given the fact that it is monotonic also, it is possible to use this function for A*."
   ]
  },
  {
   "cell_type": "code",
   "execution_count": null,
   "metadata": {},
   "outputs": [],
   "source": [
    "def admissible_distance(state):\n",
    "    u_taken= reduce(\n",
    "            np.logical_or,\n",
    "            [SETS[i] for i in state.taken],\n",
    "            np.array([False for _ in range(PROBLEM_SIZE)]),\n",
    "        ) \n",
    "     \n",
    "    m=np.max(np.array([np.sum(reduce(np.logical_or,\n",
    "            u_taken,\n",
    "            SETS[i],)) for i in state.not_taken]) )\n",
    "    \n",
    "    if( PROBLEM_SIZE-m == 0):\n",
    "        return 1\n",
    "    else:\n",
    "        return 2\n",
    "    \n",
    "        \n",
    "    "
   ]
  },
  {
   "cell_type": "markdown",
   "metadata": {},
   "source": [
    "Regarding the cost function, I simply consider the number of taken pieces."
   ]
  },
  {
   "cell_type": "code",
   "execution_count": null,
   "metadata": {},
   "outputs": [],
   "source": [
    "def cost(state):\n",
    "    return len(state.taken)"
   ]
  },
  {
   "cell_type": "code",
   "execution_count": null,
   "metadata": {},
   "outputs": [],
   "source": [
    "def f(state):\n",
    "    return  admissible_distance(state) + cost(state)"
   ]
  },
  {
   "cell_type": "code",
   "execution_count": null,
   "metadata": {},
   "outputs": [],
   "source": [
    "####### LECTURE VERSION (Greedy best first)\n",
    "frontier = (\n",
    "    PriorityQueue()\n",
    ")  \n",
    "state=State(set(), set(range(NUM_SETS)))\n",
    "frontier.put(\n",
    "    (distance(state), state)\n",
    ")  \n",
    "\n",
    "counter = 0  # steps\n",
    "_, current_state = (\n",
    "    frontier.get()\n",
    ")  \n",
    "while not goal_check(current_state): \n",
    "    counter += 1\n",
    "    for action in current_state[1]:  \n",
    "        new_state = State(\n",
    "            current_state.taken ^ {action}, current_state.not_taken ^ {action}\n",
    "        )  # xor property: if two elements are equals => false else true. So it removes action from not_taken and it puts in taken\n",
    "        frontier.put((distance(new_state) ,new_state)) \n",
    "    _, current_state = (\n",
    "        frontier.get()\n",
    "    )  \n",
    "\n",
    "print(f\"Solved in {counter:,} steps ({len(current_state.taken)} tiles(pezzi))\")\n",
    "print(current_state.taken)\n",
    "for i in current_state.taken:\n",
    "    print(SETS[i])"
   ]
  },
  {
   "cell_type": "code",
   "execution_count": null,
   "metadata": {},
   "outputs": [],
   "source": [
    "####### Breadth first Version\n",
    "frontier = (\n",
    "    PriorityQueue()\n",
    ")  \n",
    "state=State(set(), set(range(NUM_SETS)))\n",
    "frontier.put(\n",
    "    (cost(state), state)\n",
    ")  \n",
    "\n",
    "counter = 0  #steps\n",
    "_, current_state = (\n",
    "    frontier.get()\n",
    ")  \n",
    "while not goal_check(current_state):  \n",
    "    counter += 1\n",
    "    for action in current_state[1]:  \n",
    "        new_state = State(\n",
    "            current_state.taken ^ {action}, current_state.not_taken ^ {action}\n",
    "        )  # xor property: if two elements are equals => false else true. So it removes action from not_taken and it puts in taken\n",
    "        frontier.put((cost(new_state) ,new_state)) \n",
    "    _, current_state = (\n",
    "        frontier.get()\n",
    "    ) \n",
    "\n",
    "print(f\"Solved in {counter:,} steps ({len(current_state.taken)} tiles(pezzi))\")\n",
    "print(current_state.taken)\n",
    "for i in current_state.taken:\n",
    "    print(SETS[i])"
   ]
  },
  {
   "cell_type": "code",
   "execution_count": null,
   "metadata": {},
   "outputs": [],
   "source": [
    "#A* VERSION\n",
    "frontier = (\n",
    "    PriorityQueue()\n",
    ")  \n",
    "state=State(set(), set(range(NUM_SETS)))\n",
    "frontier.put(\n",
    "    (f(state), state)\n",
    ")  \n",
    "\n",
    "counter = 0  #steps\n",
    "_, current_state = (\n",
    "    frontier.get()\n",
    ")  \n",
    "while not goal_check(current_state):  \n",
    "    counter += 1\n",
    "    for action in current_state[1]:  \n",
    "        new_state = State(\n",
    "            current_state.taken ^ {action}, current_state.not_taken ^ {action}\n",
    "        )  # xor property: if two elements are equals => false else true. So it removes action from not_taken and it puts in taken\n",
    "        frontier.put((f(new_state)  ,new_state))  \n",
    "    _, current_state = (\n",
    "        frontier.get()\n",
    "    )  \n",
    "\n",
    "print(f\"Solved in {counter:,} steps ({len(current_state.taken)} tiles(pezzi))\")\n",
    "print(current_state.taken)\n",
    "for i in current_state.taken:\n",
    "    print(SETS[i])"
   ]
  },
  {
   "cell_type": "code",
   "execution_count": null,
   "metadata": {},
   "outputs": [],
   "source": [
    "current_state"
   ]
  },
  {
   "cell_type": "code",
   "execution_count": null,
   "metadata": {},
   "outputs": [],
   "source": [
    "goal_check(current_state)"
   ]
  }
 ],
 "metadata": {
  "kernelspec": {
   "display_name": "ci-P-7LqQ3C-py3.11",
   "language": "python",
   "name": "python3"
  },
  "language_info": {
   "codemirror_mode": {
    "name": "ipython",
    "version": 3
   },
   "file_extension": ".py",
   "mimetype": "text/x-python",
   "name": "python",
   "nbconvert_exporter": "python",
   "pygments_lexer": "ipython3",
   "version": "3.11.2"
  }
 },
 "nbformat": 4,
 "nbformat_minor": 2
}
