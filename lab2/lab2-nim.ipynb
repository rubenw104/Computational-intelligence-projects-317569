{
 "cells": [
  {
   "cell_type": "markdown",
   "metadata": {
    "pycharm": {
     "name": "#%%\n"
    }
   },
   "source": [
    "# Lab 2: ES\n",
    "## RUBEN TETAMO 317569\n",
    "## Task\n",
    "\n",
    "Write agents able to play [*Nim*](https://en.wikipedia.org/wiki/Nim), with an arbitrary number of rows and an upper bound $k$ on the number of objects that can be removed in a turn (a.k.a., *subtraction game*).\n",
    "\n",
    "The goal of the game is to **avoid** taking the last object.\n",
    "\n",
    "* Task2.1: An agent using fixed rules based on *nim-sum* (i.e., an *expert system*)\n",
    "* Task2.2: An agent using evolved rules using ES\n",
    "\n",
    "## Instructions\n",
    "\n",
    "* Create the directory `lab2` inside your personal course repository for the course \n",
    "* Put a `README.md` and your solution (all the files, code and auxiliary data if needed)\n",
    "\n",
    "## Notes\n",
    "\n",
    "* Working in group is not only allowed, but recommended (see: [Ubuntu](https://en.wikipedia.org/wiki/Ubuntu_philosophy) and [Cooperative Learning](https://files.eric.ed.gov/fulltext/EJ1096789.pdf)). Collaborations must be explicitly declared in the `README.md`.\n",
    "* [Yanking](https://www.emacswiki.org/emacs/KillingAndYanking) from the internet is allowed, but sources must be explicitly declared in the `README.md`.\n",
    "\n"
   ]
  },
  {
   "cell_type": "code",
   "execution_count": 18,
   "metadata": {},
   "outputs": [],
   "source": [
    "import logging\n",
    "from pprint import pprint, pformat\n",
    "from collections import namedtuple\n",
    "import random\n",
    "from math import exp, sqrt\n",
    "from copy import deepcopy\n",
    "import numpy as np"
   ]
  },
  {
   "cell_type": "markdown",
   "metadata": {},
   "source": [
    "## The *Nim* and *Nimply* classes"
   ]
  },
  {
   "cell_type": "code",
   "execution_count": 19,
   "metadata": {},
   "outputs": [],
   "source": [
    "Nimply = namedtuple(\"Nimply\", \"row, num_objects\")\n"
   ]
  },
  {
   "cell_type": "code",
   "execution_count": 20,
   "metadata": {},
   "outputs": [],
   "source": [
    "class Nim:\n",
    "    def __init__(self, num_rows: int, k: int ) -> None:\n",
    "        self._rows = [i * 2 + 1 for i in range(num_rows)]  #lista in cui i-esimo elemento rappresenta il numero di elementi della i-esima riga\n",
    "        self._k = k\n",
    "\n",
    "    def __bool__(self):\n",
    "        return sum(self._rows) > 0\n",
    "\n",
    "    def __str__(self):\n",
    "        return \"<\" + \" \".join(str(_) for _ in self._rows) + \">\" #str è un metodo che converte int in stringa\n",
    "\n",
    "    @property\n",
    "    def rows(self) -> tuple:\n",
    "        return tuple(self._rows)\n",
    "\n",
    "    def nimming(self, ply: Nimply) -> None:  #serve a fare una mossa nel gioco e garantisce che questa sia valida\n",
    "        row, num_objects = ply\n",
    "        assert num_objects>0\n",
    "        assert self._rows[row] >= num_objects\n",
    "        assert self._k is None or num_objects <= self._k  #k cos'è? E' il massimo numero che un giocatore può rimuovere in una riga\n",
    "        self._rows[row] -= num_objects\n"
   ]
  },
  {
   "cell_type": "markdown",
   "metadata": {},
   "source": [
    "## Strategies "
   ]
  },
  {
   "cell_type": "code",
   "execution_count": 21,
   "metadata": {},
   "outputs": [],
   "source": [
    "def pure_random(state: Nim) -> Nimply:\n",
    "    \"\"\"A completely random move\"\"\"\n",
    "    row = random.choice([r for r, c in enumerate(state.rows) if c > 0]) #praticamente r è l'indice della riga, mentre c è il valore (numero di elementi nella riga)\n",
    "    num_objects = random.randint(1, min([state._k, state.rows[row]]) ) \n",
    "    return Nimply(row, num_objects)\n"
   ]
  },
  {
   "cell_type": "code",
   "execution_count": 22,
   "metadata": {},
   "outputs": [],
   "source": [
    "def gabriele(state: Nim) -> Nimply:\n",
    "    \"\"\"Pick always the maximum possible number of the lowest row\"\"\"\n",
    "    possible_moves = [(r, o) for r, c in enumerate(state.rows) for o in range(1, min([state._k,c]))] #ritorna una lista di tuple (indice_riga, possibile_mossa)\n",
    "    if possible_moves:\n",
    "        return Nimply(*max(possible_moves, key=lambda m: (-m[0], m[1])))    #max agisce sulla lista possible_moves. La ordina prima in base r decrescente e possibile mossa crescente\n",
    "    else:\n",
    "        for r,c in enumerate(state.rows): \n",
    "            if c>0:\n",
    "                return Nimply(r,c)                                                                    #in pratica sceglie elemento con riga più basso e possibile_mossa più alto\n"
   ]
  },
  {
   "cell_type": "code",
   "execution_count": 23,
   "metadata": {},
   "outputs": [],
   "source": [
    "def take_first(state:Nim) -> Nimply:\n",
    "    \"\"\"Pick always one item from the first non-empty row\"\"\"\n",
    "    noe_rows = np.array([r for r, c in enumerate(state.rows) if c > 0]) #praticamente r è l'indice della riga, mentre c è il valore (numero di elementi nella riga)\n",
    "    num_objects = 1\n",
    "    return Nimply(noe_rows[0], num_objects)"
   ]
  },
  {
   "cell_type": "code",
   "execution_count": 24,
   "metadata": {},
   "outputs": [],
   "source": [
    "def take_last(state:Nim) -> Nimply:\n",
    "    \"\"\"Pick always one item from the last non-empty row\"\"\"\n",
    "    noe_rows = np.array([r for r, c in enumerate(state.rows) if c > 0]) #praticamente r è l'indice della riga, mentre c è il valore (numero di elementi nella riga)\n",
    "    num_objects = 1\n",
    "    return Nimply(noe_rows[len(noe_rows)-1], num_objects)"
   ]
  },
  {
   "cell_type": "code",
   "execution_count": 25,
   "metadata": {},
   "outputs": [],
   "source": [
    "def take_from_middle(state:Nim) -> Nimply:\n",
    "    \"\"\"Pick always one item from a random row, excluding the frontier\"\"\"\n",
    "    noe_rows = np.array([r for r, c in enumerate(state.rows) if c > 0]) #praticamente r è l'indice della riga, mentre c è il valore (numero di elementi nella riga)\n",
    "    num_objects = 1\n",
    "    if len(noe_rows)>2:\n",
    "        return Nimply(noe_rows[random.randint(1,len(noe_rows)-2)], num_objects)\n",
    "    else:\n",
    "        return Nimply(noe_rows[random.randint(0,len(noe_rows)-1)], num_objects)"
   ]
  },
  {
   "cell_type": "code",
   "execution_count": 26,
   "metadata": {},
   "outputs": [],
   "source": [
    "def take_one_from_max(state:Nim) -> Nimply:\n",
    "    \"\"\"Pick always one item from the row with most values\"\"\"\n",
    "    row= state._rows.index(max(state._rows))\n",
    "    num_objects = 1\n",
    "    return Nimply(row, num_objects)"
   ]
  },
  {
   "cell_type": "code",
   "execution_count": 27,
   "metadata": {},
   "outputs": [],
   "source": [
    "def take_random_from_max(state:Nim) -> Nimply:\n",
    "    \"\"\"Pick a random number of item from the row with most values\"\"\"\n",
    "    row= state._rows.index(max(state._rows))\n",
    "    num_objects = random.randint(1,min([state.rows[row], state._k]))\n",
    "    return Nimply(row, num_objects)"
   ]
  },
  {
   "cell_type": "code",
   "execution_count": 28,
   "metadata": {},
   "outputs": [],
   "source": [
    "def take_one_from_min(state:Nim)-> Nimply:\n",
    "    \"\"\"Pick always one item from the row with less values\"\"\"\n",
    "    row=[r for r,c in sorted(enumerate(state._rows)) if c>0][0]\n",
    "    num_objects = 1\n",
    "    return Nimply(row, num_objects)"
   ]
  },
  {
   "cell_type": "code",
   "execution_count": 29,
   "metadata": {},
   "outputs": [],
   "source": [
    "def take_random_from_min(state:Nim) -> Nimply:\n",
    "    \"\"\"Pick a random number of item from the row with less values\"\"\"\n",
    "    row=[r for r,c in sorted(enumerate(state._rows)) if c>0][0]\n",
    "    num_objects = random.randint(1,min([state.rows[row], state._k]))\n",
    "    return Nimply(row, num_objects)"
   ]
  },
  {
   "cell_type": "code",
   "execution_count": 30,
   "metadata": {},
   "outputs": [],
   "source": [
    "def take_joker(state:Nim)-> Nimply:\n",
    "    \"\"\"If number of values in nim is odd takes random items from max, else takes random items from min\"\"\"\n",
    "    if sum(state._rows) %2 ==0:\n",
    "        return take_random_from_max(state)\n",
    "    else:\n",
    "        return take_random_from_min(state)"
   ]
  },
  {
   "cell_type": "markdown",
   "metadata": {},
   "source": [
    "Optimal strategy"
   ]
  },
  {
   "cell_type": "code",
   "execution_count": 31,
   "metadata": {},
   "outputs": [],
   "source": [
    "\n",
    "def nim_sum(state: Nim) -> int:  #calcola la somma di nim dello stato\n",
    "    tmp = np.array([tuple(int(x) for x in f\"{c:032b}\") for c in state.rows])\n",
    "    xor = tmp.sum(axis=0) % 2\n",
    "    return int(\"\".join(str(_) for _ in xor), base=2)\n",
    "\n",
    "\n",
    "def analize(raw: Nim) -> dict:  #restituisce un dizionario dove a ogni possibile mossa è associato la nim_sum\n",
    "    cooked = dict()\n",
    "    cooked[\"possible_moves\"] = dict()\n",
    "    for ply in (Nimply(r, o) for r, c in enumerate(raw.rows) for o in range(1, min(raw._k+1,c + 1))):\n",
    "        tmp = deepcopy(raw)\n",
    "        tmp.nimming(ply)\n",
    "        cooked[\"possible_moves\"][ply] = nim_sum(tmp)\n",
    "    return cooked\n",
    "\n",
    "#  la funzione optimal utilizza l'analisi delle possibili mosse e le somme di Nim per selezionare una mossa non perdente \n",
    "#  in modo casuale se disponibile, altrimenti sceglie casualmente tra tutte le possibili mosse\n",
    "def optimal(state: Nim) -> Nimply:\n",
    "    analysis = analize(state)\n",
    "    logging.debug(f\"analysis:\\n{pformat(analysis)}\")\n",
    "    spicy_moves = [ply for ply, ns in analysis[\"possible_moves\"].items() if ns != 0]\n",
    "    if not spicy_moves:\n",
    "        spicy_moves = list(analysis[\"possible_moves\"].keys())\n",
    "    ply = random.choice(spicy_moves)\n",
    "    return ply\n"
   ]
  },
  {
   "cell_type": "markdown",
   "metadata": {},
   "source": [
    "## Game functions"
   ]
  },
  {
   "cell_type": "code",
   "execution_count": 32,
   "metadata": {},
   "outputs": [],
   "source": [
    "logging.getLogger().setLevel(logging.WARNING)\n",
    "def game(agent1,agent2, nim_size, k)-> int:\n",
    "    strategy = (agent1, agent2)\n",
    "    nim = Nim(nim_size,k)\n",
    "    logging.info(f\"init : {nim}\")\n",
    "    player = 0\n",
    "    while nim:\n",
    "        ply = strategy[player](nim)\n",
    "        logging.info(f\"ply: player {player} plays {ply}\")\n",
    "        nim.nimming(ply)\n",
    "        logging.info(f\"status: {nim}\")\n",
    "        player = 1 - player\n",
    "    logging.info(f\"status: Player {player} won!\")\n",
    "    return player"
   ]
  },
  {
   "cell_type": "code",
   "execution_count": 46,
   "metadata": {},
   "outputs": [],
   "source": [
    "def game2(strategy_list,p, nim_size, k)-> int:\n",
    "    agent1=np.random.choice(strategy_list, p=p)\n",
    "    strategy = [agent1, pure_random]\n",
    "    nim = Nim(nim_size,k)\n",
    "    logging.info(f\"init : {nim}\")\n",
    "    player = 0\n",
    "    while nim:\n",
    "        strategy[0]=np.random.choice(strategy_list, p=p)\n",
    "        ply = strategy[player](nim)\n",
    "        logging.info(f\"ply: player {player} plays {ply}\")\n",
    "        nim.nimming(ply)\n",
    "        logging.info(f\"status: {nim}\")\n",
    "        player = 1 - player\n",
    "    logging.info(f\"status: Player {player} won!\")\n",
    "    return player"
   ]
  },
  {
   "cell_type": "code",
   "execution_count": 34,
   "metadata": {},
   "outputs": [],
   "source": [
    "def num_wins(agent1, agent2, nim_size, num_matches, k)-> list:\n",
    "    wins=[0,0]\n",
    "    while num_matches:\n",
    "        nim=Nim(nim_size,k)\n",
    "        player=game(agent1, agent2, nim_size,k)\n",
    "        wins[player]+=1\n",
    "        num_matches-=1\n",
    "    return wins"
   ]
  },
  {
   "cell_type": "markdown",
   "metadata": {},
   "source": [
    "## Adaptive algorithm"
   ]
  },
  {
   "cell_type": "markdown",
   "metadata": {},
   "source": [
    " Fitness"
   ]
  },
  {
   "cell_type": "code",
   "execution_count": 36,
   "metadata": {},
   "outputs": [],
   "source": [
    "#comes from a previous implementation. Totally wrong, discard.\n",
    "def fitness(state:Nim, ply:Nimply):\n",
    "    s=deepcopy(state)\n",
    "    s.nimming(ply)\n",
    "    return nim_sum(s)+ ply[1]/100"
   ]
  },
  {
   "cell_type": "code",
   "execution_count": 37,
   "metadata": {},
   "outputs": [],
   "source": [
    "#first version of a correct fitness, it gave bad results because it changes too much \n",
    "def fitness1(p: np.array, agents: np.array):\n",
    "    NUM_GAMES=1000\n",
    "    p=p/p.sum()\n",
    "    wins=[0,0]\n",
    "    for _ in range(NUM_GAMES):\n",
    "      wins[game( agent1=np.random.choice(agents, p=p) ,agent2=pure_random, nim_size=5,k=4)] +=1\n",
    "     \n",
    "\n",
    "    return wins[0]/NUM_GAMES"
   ]
  },
  {
   "cell_type": "code",
   "execution_count": 57,
   "metadata": {},
   "outputs": [],
   "source": [
    "#good one. maybe it would be better with an higher NUM_GAMES value, but tests would be too slow \n",
    "def fitness2(p: np.array, agents: np.array):\n",
    "    NUM_GAMES=500\n",
    "    p=p/p.sum()\n",
    "    wins=[0,0]\n",
    "    for _ in range(NUM_GAMES):\n",
    "      wins[game2(agents,p,5,4)] +=1\n",
    "    \n",
    "    return wins[0]/NUM_GAMES"
   ]
  },
  {
   "cell_type": "code",
   "execution_count": 40,
   "metadata": {},
   "outputs": [],
   "source": [
    "def mutate(p_weights, sigma)-> np :\n",
    "    res=np.array([_+ random.gauss(0,sigma) for r,_ in enumerate(p_weights)])\n",
    "    res=(res/res.sum())*100\n",
    "    return np.clip(res, a_min=0, a_max=None)"
   ]
  },
  {
   "cell_type": "code",
   "execution_count": null,
   "metadata": {},
   "outputs": [],
   "source": [
    "def update_sigma(sigma,tau, success) -> float:\n",
    "    return sigma*exp(1/3) if success else sigma/exp(1/12)\n",
    "s=.3\n",
    "pprint(update_sigma(s,1/sqrt(2), True))\n",
    "pprint(update_sigma(s,1/sqrt(2), False))"
   ]
  },
  {
   "cell_type": "markdown",
   "metadata": {},
   "source": [
    "## (mu+lambda)"
   ]
  },
  {
   "cell_type": "code",
   "execution_count": null,
   "metadata": {},
   "outputs": [],
   "source": [
    "PARENTS_NUMBER=3\n",
    "OFFSPRING_NUMBER=5\n",
    "EPOCH = 10\n",
    "#, take_first, take_last, take_from_middle, take_joker, take_one_from_max, take_one_from_min, take_random_from_min,take_random_from_max\n",
    "agents=np.array([gabriele,optimal])\n",
    "tau=1/sqrt(len(agents))\n",
    "sigma= 5\n",
    "\n",
    "#creation of parent population\n",
    "p_population=[]\n",
    "for _ in range(PARENTS_NUMBER):\n",
    "    p=np.array([random.randint(1,1000) for _ in agents])\n",
    "    p=100*p/p.sum()\n",
    "    f=fitness2(p,agents)\n",
    "    p_population.append((p,f))\n",
    "\n",
    "pprint(p_population)\n",
    "#initialize offspring as an empty list\n",
    "offspring=[]\n",
    "success=0\n",
    "for _ in range(EPOCH):\n",
    "    \n",
    "    #for every parent generate his offspring by mutation\n",
    "    for i in range(PARENTS_NUMBER):\n",
    "        for _ in range(OFFSPRING_NUMBER):\n",
    "            o_weights=mutate(p_population[i][0],sigma)\n",
    "            o_fitness=fitness2(o_weights, agents)\n",
    "            offspring.append( (o_weights, o_fitness) )\n",
    "            success += 1 if(o_fitness>p_population[i][1]) else 0\n",
    "    #add parents to offspring\n",
    "    for l in range(PARENTS_NUMBER):\n",
    "        offspring.append(p_population[l])\n",
    "    #sort offspring by fitness (descending)\n",
    "    offspring.sort(key= lambda x: x[1], reverse=True)\n",
    "    \n",
    "    #update population with individual with best fitness\n",
    "    p_population=[]\n",
    "    for k in range(PARENTS_NUMBER):\n",
    "        p_population.append(offspring[k])\n",
    "    #update sigma\n",
    "    sigma= update_sigma(sigma, tau, success> OFFSPRING_NUMBER*PARENTS_NUMBER/6)\n",
    "    pprint([sigma,p_population[0]])\n",
    "    #re-initialize offspring and success for next iteration\n",
    "    offspring=[]\n",
    "    success=0\n",
    "pprint(p_population)\n",
    "pprint(fitness2(p_population[0][0],agents))"
   ]
  },
  {
   "cell_type": "markdown",
   "metadata": {},
   "source": [
    "First attempt of adaptive algorithm (ignore)"
   ]
  },
  {
   "cell_type": "code",
   "execution_count": null,
   "metadata": {},
   "outputs": [],
   "source": [
    "ERA=100\n",
    "def adaptive1(state: Nim) -> Nimply:\n",
    "    \"\"\"A strategy that can adapt its parameters\"\"\"\n",
    "\n",
    "    row = random.choice([r for r, c in enumerate(state.rows) if c > 0])\n",
    "    num_item= random.randint(1,state._rows[row])\n",
    "\n",
    "    genome = {\"love_small\": 0.4, \"row\" : int(row), \"num_item\": int(num_item)}\n",
    "    parent_ply=Nimply(genome[\"row\"], genome[\"num_item\"])\n",
    "    best_fitness =fitness(state,parent_ply)\n",
    "    best_ply=parent_ply\n",
    "    for _ in range(ERA):\n",
    "        row=row+ random.gauss(0,genome[\"love_small\"])\n",
    "        num_item=num_item+ random.gauss(0,genome[\"love_small\"])\n",
    "        \n",
    "        row = row if row< len(state._rows) else len(state._rows)-1\n",
    "        row = row if row>=0 else 0\n",
    "        if state.rows[int(row)]==0 :\n",
    "            row=random.choice([r for r, c in enumerate(state.rows) if c > 0])\n",
    "        num_item= num_item if num_item >=1 else 1\n",
    "        num_item= num_item if num_item <= state.rows[int(row)] else state.rows[int(row)]\n",
    "\n",
    "        genome[\"row\"]=int(row)\n",
    "        genome[\"num_item\"]=int(num_item)\n",
    "        offspring_ply= Nimply(genome[\"row\"], genome[\"num_item\"])\n",
    "        offspring_fitness=fitness(state, offspring_ply )\n",
    "        if offspring_fitness>best_fitness:\n",
    "            best_fitness=offspring_fitness\n",
    "            best_ply=offspring_ply\n",
    "\n",
    "    return best_ply        "
   ]
  },
  {
   "cell_type": "markdown",
   "metadata": {},
   "source": [
    "1+1 algorithm (ignore)"
   ]
  },
  {
   "cell_type": "code",
   "execution_count": null,
   "metadata": {},
   "outputs": [],
   "source": [
    "ERA=100\n",
    "tau=0.707\n",
    "def adaptive2(state: Nim) -> Nimply:\n",
    "    \"\"\"A strategy 1+1\"\"\"\n",
    "\n",
    "    row = random.choice([r for r, c in enumerate(state.rows) if c > 0])\n",
    "    num_item= random.randint(1,state._rows[row])\n",
    "    sigma= 0.4\n",
    "    \n",
    "    parent={\"row\":row, \"num_item\":num_item, \"sigma\":sigma}\n",
    "    parent_ply=Nimply(parent[\"row\"], parent[\"num_item\"])\n",
    "    parent_fitness =fitness(state,parent_ply)\n",
    "    \n",
    "    successes=[]\n",
    "\n",
    "    for _ in range(ERA):\n",
    "        #sigma update. only every 5 steps\n",
    "        if _ >=5 and _%5 ==0 and successes[_-1]+successes[_-2]+successes[_-3]+successes[_-4]+successes[_-5] >1:\n",
    "            parent[\"sigma\"]=parent[\"sigma\"]*np.exp(tau*random.gauss(0,parent[\"sigma\"])).astype(np.float64)\n",
    "        if _ >=5 and _%5 ==0 and successes[_-1]+successes[_-2]+successes[_-3]+successes[_-4]+successes[_-5] <=1 :\n",
    "            parent[\"sigma\"]=parent[\"sigma\"]/np.exp(12).astype(np.float64)\n",
    "\n",
    "        row=parent[\"row\"]+ random.gauss(0,parent[\"sigma\"])\n",
    "        num_item=parent[\"num_item\"]+ random.gauss(0,parent[\"sigma\"])\n",
    "        \n",
    "        #checking if new row is admissible\n",
    "        row = row if row< len(state._rows) else len(state._rows)-1\n",
    "        row = row if row>=0 else 0\n",
    "        if state.rows[int(row)]==0 :\n",
    "            row=random.choice([r for r, c in enumerate(state.rows) if c > 0])\n",
    "        \n",
    "        #checking if num_item is admissible\n",
    "        num_item= num_item if num_item >=1 else 1\n",
    "        num_item= num_item if num_item <= state.rows[int(row)] else state.rows[int(row)]\n",
    "\n",
    "        #generation of new offspring from parent mutation\n",
    "        offspring=dict()\n",
    "        offspring[\"row\"]=int(row)\n",
    "        offspring[\"num_item\"]=int(num_item)\n",
    "        offspring[\"sigma\"]=parent[\"sigma\"]\n",
    "        offspring_ply= Nimply(offspring[\"row\"], offspring[\"num_item\"])\n",
    "\n",
    "        #offspring evaluation\n",
    "        offspring_fitness=fitness(state, offspring_ply )\n",
    "\n",
    "        if offspring_fitness>parent_fitness:\n",
    "            parent=offspring\n",
    "            successes.append(1)\n",
    "        else : successes.append(0)\n",
    "\n",
    "    parent_ply=Nimply(parent[\"row\"], parent[\"num_item\"])   \n",
    "\n",
    "    return parent_ply        "
   ]
  },
  {
   "cell_type": "markdown",
   "metadata": {},
   "source": [
    "## Oversimplified match"
   ]
  },
  {
   "cell_type": "code",
   "execution_count": null,
   "metadata": {},
   "outputs": [],
   "source": [
    "wins=[0,0]\n",
    "NUM_MATCHES=100\n",
    "logging.getLogger().setLevel(logging.INFO)\n",
    "\n",
    "strategy = (adaptive2, adaptive1)\n",
    "while NUM_MATCHES:\n",
    "    nim = Nim(5)\n",
    "    #logging.info(f\"init : {nim}\")\n",
    "    player = 0\n",
    "    while nim:\n",
    "        ply = strategy[player](nim)\n",
    "        #logging.info(f\"ply: player {player} plays {ply}\")\n",
    "        nim.nimming(ply)\n",
    "        #logging.info(f\"status: {nim}\")\n",
    "        player = 1 - player\n",
    "    logging.info(f\"status: Player {player} won!\")\n",
    "    wins[player] +=1\n",
    "    NUM_MATCHES -=1\n",
    "\n",
    "pprint(wins)\n"
   ]
  }
 ],
 "metadata": {
  "kernelspec": {
   "display_name": "Python 3.10.7 ('ci22-dPIXJ0_o-py3.10')",
   "language": "python",
   "name": "python3"
  },
  "language_info": {
   "codemirror_mode": {
    "name": "ipython",
    "version": 3
   },
   "file_extension": ".py",
   "mimetype": "text/x-python",
   "name": "python",
   "nbconvert_exporter": "python",
   "pygments_lexer": "ipython3",
   "version": "3.11.2"
  },
  "vscode": {
   "interpreter": {
    "hash": "10197e8e2f2aa67e2c349105091c77f4cd384fce4877865f002d9ec653f96bc0"
   }
  }
 },
 "nbformat": 4,
 "nbformat_minor": 2
}
